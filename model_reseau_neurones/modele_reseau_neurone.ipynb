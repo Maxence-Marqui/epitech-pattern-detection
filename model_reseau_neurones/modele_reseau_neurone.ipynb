{
 "cells": [
  {
   "cell_type": "code",
   "execution_count": 1,
   "metadata": {},
   "outputs": [],
   "source": [
    "import numpy as np\n",
    "from numpy import asarray\n",
    "import os\n",
    "import glob\n",
    "from PIL import Image\n",
    "import matplotlib.pyplot as plt\n",
    "from sklearn.metrics import accuracy_score, log_loss\n",
    "from tqdm import tqdm"
   ]
  },
  {
   "cell_type": "code",
   "execution_count": 2,
   "metadata": {},
   "outputs": [],
   "source": [
    "def initialiation(dimensions):\n",
    "\n",
    "    parametres = {}\n",
    "    C = len(dimensions)\n",
    "\n",
    "    for c in range(1, C):\n",
    "        parametres['W' + str(c)] = np.random.randn(dimensions[c], dimensions[c - 1] )\n",
    "        parametres['b' + str(c)] = np.random.randn(dimensions[c], 1)\n",
    "        \n",
    "    return parametres"
   ]
  },
  {
   "cell_type": "code",
   "execution_count": 4,
   "metadata": {},
   "outputs": [],
   "source": [
    "def forward_propagation(X, parametres):\n",
    "    activations = {'A0' : X}\n",
    "\n",
    "    C = len(parametres) // 2\n",
    "\n",
    "    for c in range(1, C+1) :\n",
    "\n",
    "        Z = parametres['W' + str(c)].dot(activations['A' + str(c-1)]) + parametres['b' + str(c)]\n",
    "        activations['A' + str(c)] = 1 / (1 + np.exp(-Z))\n",
    "\n",
    "    \n",
    "    return activations"
   ]
  },
  {
   "cell_type": "code",
   "execution_count": 5,
   "metadata": {},
   "outputs": [],
   "source": [
    "def back_propagation(y, activations, parametres):\n",
    "    gradients = {}\n",
    "    m = y.shape[1]\n",
    "    C = len(parametres) // 2\n",
    "\n",
    "    dZ = activations['A' + str(C)] - y\n",
    "\n",
    "    for c in reversed(range(1, C+1)):\n",
    "        gradients['dW' + str(c)] = 1/m * np.dot(dZ,activations['A' + str(c-1)].T)\n",
    "        gradients['db' + str(c)] = 1/m * np.sum(dZ, axis=1, keepdims=True)\n",
    "        if c > 1 :\n",
    "            dZ = np.dot(parametres['W' + str(c)].T, dZ) * activations['A' + str(c-1)] * (1 - activations['A' + str(c-1)])\n",
    "\n",
    "    return gradients"
   ]
  },
  {
   "cell_type": "code",
   "execution_count": 6,
   "metadata": {},
   "outputs": [],
   "source": [
    "def update(gradients, parametres, learning_rate):\n",
    "    C = len(parametres) // 2\n",
    "\n",
    "    for c in range(1, C+1):\n",
    "        parametres['W' + str(c)] = parametres['W' + str(c)] - learning_rate * gradients['dW' + str(c)]\n",
    "        parametres['b' + str(c)] = parametres['b' + str(c)] - learning_rate * gradients['db' + str(c)]\n",
    "\n",
    "    return parametres"
   ]
  },
  {
   "cell_type": "code",
   "execution_count": 7,
   "metadata": {},
   "outputs": [],
   "source": [
    "def predict(X, parametres):\n",
    "    activations = forward_propagation(X, parametres)\n",
    "    C = len(parametres) // 2\n",
    "    Af = activations['A' + str(C)]\n",
    "    return Af >= 0.5"
   ]
  },
  {
   "attachments": {},
   "cell_type": "markdown",
   "metadata": {},
   "source": [
    "### creation du réseau de neuronnes"
   ]
  },
  {
   "cell_type": "code",
   "execution_count": 8,
   "metadata": {},
   "outputs": [],
   "source": [
    "def deep_neural_network(X, y, hidden_layers = (32,32,32), learning_rate= 0.1, n_iter=1000):\n",
    "\n",
    "    #initialisation W, b\n",
    "    dimensions = list(hidden_layers)\n",
    "    dimensions.insert(0, X.shape[0])\n",
    "    dimensions.append(y.shape[0])\n",
    "    np.random.seed(1)\n",
    "    parametres = initialiation(dimensions)\n",
    "\n",
    "     # tableau numpy contenant les futures accuracy et log_loss\n",
    "    training_history = np.zeros((int(n_iter), 2))\n",
    "\n",
    "    C = len(parametres) // 2\n",
    "    \n",
    "    #boucle d'apprentissage\n",
    "    for i in tqdm(range(n_iter)):\n",
    "\n",
    "        #activations\n",
    "        activations = forward_propagation(X, parametres)\n",
    "        gradients = back_propagation(y, activations, parametres)\n",
    "        parametres = update(gradients, parametres, learning_rate)\n",
    "        Af = activations['A' + str(C)]\n",
    "\n",
    "        # calcul du log_loss et de l'accuracy\n",
    "        training_history[i, 0] = (log_loss(y.flatten(), Af.flatten()))\n",
    "        y_pred = predict(X, parametres)\n",
    "        training_history[i, 1] = (accuracy_score(y.flatten(), y_pred.flatten()))    \n",
    "        \n",
    "\n",
    "    # Plot courbe d'apprentissage\n",
    "    plt.figure(figsize=(12, 4))\n",
    "    plt.subplot(1, 2, 1)\n",
    "    plt.plot(training_history[:, 0], label='train loss')\n",
    "    plt.legend()\n",
    "    plt.subplot(1, 2, 2)\n",
    "    plt.plot(training_history[:, 1], label='train acc')\n",
    "    plt.legend()\n",
    "    plt.show()\n",
    "\n",
    "    #return parametres\n"
   ]
  },
  {
   "attachments": {},
   "cell_type": "markdown",
   "metadata": {},
   "source": [
    "## DATASET"
   ]
  },
  {
   "cell_type": "code",
   "execution_count": 9,
   "metadata": {},
   "outputs": [],
   "source": [
    "def open_image(path):\n",
    "    image = None\n",
    "    try:\n",
    "        image = Image.open(path)\n",
    "    except:\n",
    "        print('Could not open file ' + path)\n",
    "    return image"
   ]
  },
  {
   "cell_type": "code",
   "execution_count": 10,
   "metadata": {},
   "outputs": [],
   "source": [
    "def image_to_array(image):\n",
    "    return asarray(image)"
   ]
  },
  {
   "cell_type": "code",
   "execution_count": 11,
   "metadata": {},
   "outputs": [],
   "source": [
    "def array_to_image(array):\n",
    "    Image.fromarray(array)"
   ]
  },
  {
   "cell_type": "code",
   "execution_count": 12,
   "metadata": {},
   "outputs": [],
   "source": [
    "def crop_image(image, new_size={'x': 1000, 'y': 1000}):\n",
    "    width, height = image.size\n",
    "    left, upper, right, lower = 0, 0, width, height\n",
    "\n",
    "    if width > height:\n",
    "        offset = int((width - height) / 2)\n",
    "        left = offset\n",
    "        right = offset + height\n",
    "    else:\n",
    "        offset = int((height - width) / 2)\n",
    "        left = offset\n",
    "        right = offset + width\n",
    "    return image.crop((left, upper, right, lower)).resize((new_size['x'], new_size['y']))"
   ]
  },
  {
   "cell_type": "code",
   "execution_count": 13,
   "metadata": {},
   "outputs": [],
   "source": [
    "def array_infos_match(arr, debug=False, size={'x': 1000, 'y': 1000}, img_type='uint8'):\n",
    "    if debug:\n",
    "        if arr is not None:\n",
    "            print('Shape: %s' % (arr.shape,))\n",
    "            print('Ratio: %s' % str(arr.shape[1] / arr.shape[0]))\n",
    "            print('Type : %s' % arr.dtype)\n",
    "            return True\n",
    "        else:\n",
    "            print('no image!')\n",
    "            return False\n",
    "    return arr is not None and arr.shape == (size['x'], size['y']) and arr.dtype == img_type"
   ]
  },
  {
   "cell_type": "code",
   "execution_count": 14,
   "metadata": {},
   "outputs": [],
   "source": [
    "def show_image(image):\n",
    "    image.show()"
   ]
  },
  {
   "cell_type": "code",
   "execution_count": 15,
   "metadata": {},
   "outputs": [],
   "source": [
    "def show_array(array):\n",
    "    pyplot.imshow(array)\n",
    "    pyplot.show()"
   ]
  },
  {
   "cell_type": "code",
   "execution_count": 16,
   "metadata": {},
   "outputs": [],
   "source": [
    "def load_images(directory, label, limit=-1, size={'x': 1000, 'y': 1000}, extension='.jpeg'):\n",
    "    pattern = '' if label == 'healthy' else label #virus\n",
    "    images = [] if not os.path.isdir(directory) else glob.glob(directory + '/*' + pattern + '*' + extension)\n",
    "    res = []\n",
    "    labels = []\n",
    "\n",
    "    print('loading ' + label + ' pictures from ' + directory + ' ...')\n",
    "\n",
    "    if 0 <= limit < len(images):\n",
    "        images = images[:limit]\n",
    "\n",
    "    for image in images:\n",
    "        array = image_to_array(crop_image(open_image(image), size))\n",
    "        #print(array.shape)\n",
    "        if not array_infos_match(array, False, size):\n",
    "            print('wrong size for: ' + image)\n",
    "            continue\n",
    "        res.append(array.reshape(-1))\n",
    "        if label == 'healthy' :\n",
    "            labels.append(0)\n",
    "        else :\n",
    "            if label == 'virus' :\n",
    "                labels.append(1)\n",
    "            else :\n",
    "                labels.append(1)\n",
    "\n",
    "    return {\n",
    "        'images': res,\n",
    "        'labels': labels\n",
    "    }"
   ]
  },
  {
   "attachments": {},
   "cell_type": "markdown",
   "metadata": {},
   "source": [
    "## Chargement des images "
   ]
  },
  {
   "cell_type": "code",
   "execution_count": 17,
   "metadata": {},
   "outputs": [
    {
     "name": "stdout",
     "output_type": "stream",
     "text": [
      "Loading assets from images\n",
      "loading healthy pictures from ./assets/chest_Xray/test/NORMAL ...\n",
      "loading virus pictures from ./assets/chest_Xray/test/PNEUMONIA ...\n",
      "loading bacteria pictures from ./assets/chest_Xray/test/PNEUMONIA ...\n",
      "loading healthy pictures from ./assets/chest_Xray/train/NORMAL ...\n",
      "loading virus pictures from ./assets/chest_Xray/train/PNEUMONIA ...\n",
      "wrong size for: ./assets/chest_Xray/train/PNEUMONIA\\person1010_virus_1695.jpeg\n",
      "wrong size for: ./assets/chest_Xray/train/PNEUMONIA\\person1052_virus_1751.jpeg\n",
      "wrong size for: ./assets/chest_Xray/train/PNEUMONIA\\person1099_virus_1819.jpeg\n",
      "wrong size for: ./assets/chest_Xray/train/PNEUMONIA\\person1104_virus_1826.jpeg\n",
      "wrong size for: ./assets/chest_Xray/train/PNEUMONIA\\person1108_virus_1833.jpeg\n",
      "loading bacteria pictures from ./assets/chest_Xray/train/PNEUMONIA ...\n",
      "wrong size for: ./assets/chest_Xray/train/PNEUMONIA\\person1035_bacteria_2969.jpeg\n",
      "wrong size for: ./assets/chest_Xray/train/PNEUMONIA\\person1073_bacteria_3008.jpeg\n",
      "Loading assets from images: done!\n"
     ]
    }
   ],
   "source": [
    "dataset_file = './assets/lungs_dataset.json'\n",
    "assets_path = './assets/chest_Xray'\n",
    "assets = None\n",
    "\n",
    "if os.path.exists(assets_path):\n",
    "    print('Loading assets from images')\n",
    "    image_size = {'x': 100, 'y': 100}\n",
    "\n",
    "    assets = {\n",
    "        'test': {\n",
    "            'healthy': load_images(assets_path + '/test/NORMAL', 'healthy', (-1), image_size),\n",
    "            'bacteria': load_images(assets_path + '/test/PNEUMONIA', 'virus', (-1), image_size),\n",
    "            'virus': load_images(assets_path + '/test/PNEUMONIA', 'bacteria', (-1), image_size)\n",
    "        },\n",
    "        'train': {\n",
    "            'healthy': load_images(assets_path + '/train/NORMAL', 'healthy', 100, image_size),\n",
    "            'bacteria': load_images(assets_path + '/train/PNEUMONIA', 'virus', 100, image_size),\n",
    "            'virus': load_images(assets_path + '/train/PNEUMONIA', 'bacteria', 100, image_size)\n",
    "        },\n",
    "        #'val': {\n",
    "        #    'healthy': load_images(assets_path + '/val/NORMAL', 'healthy'),\n",
    "        #    'bacteria': load_images(assets_path + '/val/PNEUMONIA', 'virus'),\n",
    "        #    'virus': load_images(assets_path + '/val/PNEUMONIA', 'bacteria')\n",
    "        #}\n",
    "    }\n",
    "\n",
    "    print('Loading assets from images: done!')\n",
    "else:\n",
    "    print('assets not found !')"
   ]
  },
  {
   "attachments": {},
   "cell_type": "markdown",
   "metadata": {},
   "source": [
    "## creation de matrice pour le modele"
   ]
  },
  {
   "cell_type": "code",
   "execution_count": 18,
   "metadata": {},
   "outputs": [
    {
     "name": "stderr",
     "output_type": "stream",
     "text": [
      "C:\\Users\\sf690\\AppData\\Local\\Temp\\ipykernel_7376\\3201816663.py:5: VisibleDeprecationWarning: Creating an ndarray from ragged nested sequences (which is a list-or-tuple of lists-or-tuples-or ndarrays with different lengths or shapes) is deprecated. If you meant to do this, you must specify 'dtype=object' when creating the ndarray.\n",
      "  y_train = np.array(Y_train)\n"
     ]
    },
    {
     "data": {
      "text/plain": [
       "array([[array([83, 90, 93, ..., 76, 80, 82], dtype=uint8),\n",
       "        array([ 89,  92, 102, ..., 149, 161, 141], dtype=uint8),\n",
       "        array([ 82,  83,  83, ..., 133, 133, 138], dtype=uint8),\n",
       "        array([107, 113, 118, ..., 157, 147, 137], dtype=uint8),\n",
       "        array([ 27,  21,  14, ..., 153, 150, 144], dtype=uint8),\n",
       "        array([133, 134, 135, ..., 198, 199, 198], dtype=uint8),\n",
       "        array([ 39,  37,  37, ..., 143, 144, 138], dtype=uint8),\n",
       "        array([ 90, 129, 118, ..., 130, 120, 100], dtype=uint8),\n",
       "        array([  0,   2,  44, ..., 158, 155, 134], dtype=uint8),\n",
       "        array([158, 147, 127, ..., 147, 134, 129], dtype=uint8),\n",
       "        array([68, 72, 70, ...,  0,  0,  0], dtype=uint8),\n",
       "        array([ 68,  67,  61, ..., 119, 116, 109], dtype=uint8),\n",
       "        array([76, 68, 61, ...,  0,  0,  0], dtype=uint8),\n",
       "        array([108, 104, 123, ..., 142, 149, 132], dtype=uint8),\n",
       "        array([31, 32, 31, ...,  0,  0,  0], dtype=uint8),\n",
       "        array([ 50,  45,  38, ..., 186, 186, 187], dtype=uint8),\n",
       "        array([119, 115, 136, ...,   0,   0,   0], dtype=uint8),\n",
       "        array([255, 255, 255, ..., 167, 163, 160], dtype=uint8),\n",
       "        array([36, 37, 41, ..., 82, 50, 30], dtype=uint8),\n",
       "        array([150, 150, 150, ..., 190, 162, 141], dtype=uint8),\n",
       "        array([128, 131, 133, ..., 141, 149, 150], dtype=uint8),\n",
       "        array([ 75,  75,  73, ..., 125, 135, 138], dtype=uint8),\n",
       "        array([ 60,  58,  56, ..., 129, 124, 126], dtype=uint8),\n",
       "        array([143, 124,  93, ..., 150, 156, 161], dtype=uint8),\n",
       "        array([105, 119, 133, ..., 145, 144, 149], dtype=uint8),\n",
       "        array([ 53,  46,  59, ..., 112, 116, 111], dtype=uint8),\n",
       "        array([ 82,  89,  92, ..., 102,  78,  54], dtype=uint8),\n",
       "        array([ 79,  71,  71, ..., 149, 168, 177], dtype=uint8),\n",
       "        array([109, 109, 105, ..., 208, 209, 205], dtype=uint8),\n",
       "        array([ 92,  92, 144, ...,   0,   0,   0], dtype=uint8),\n",
       "        array([ 96,  92,  81, ..., 163, 168, 154], dtype=uint8),\n",
       "        array([63, 69, 73, ...,  0,  0,  0], dtype=uint8),\n",
       "        array([122, 121, 120, ..., 195, 192, 195], dtype=uint8),\n",
       "        array([ 96,  89,  84, ..., 153, 144, 138], dtype=uint8),\n",
       "        array([144, 131, 151, ..., 188, 179, 166], dtype=uint8),\n",
       "        array([120, 117, 119, ..., 145, 108,  61], dtype=uint8),\n",
       "        array([45, 54, 63, ..., 77, 61, 51], dtype=uint8),\n",
       "        array([67, 78, 88, ..., 26,  0,  0], dtype=uint8),\n",
       "        array([ 81,  81,  87, ..., 171, 166, 158], dtype=uint8),\n",
       "        array([ 96,  91,  86, ..., 179, 179, 171], dtype=uint8),\n",
       "        array([ 90,  86, 131, ...,  37,  19,   4], dtype=uint8),\n",
       "        array([117, 122, 132, ..., 132, 132, 156], dtype=uint8),\n",
       "        array([170, 173, 175, ..., 154, 150, 148], dtype=uint8),\n",
       "        array([72, 69, 66, ...,  0,  0,  0], dtype=uint8),\n",
       "        array([104, 101, 103, ...,  65,  46,  16], dtype=uint8),\n",
       "        array([ 84,  84,  83, ..., 152, 146, 148], dtype=uint8),\n",
       "        array([  0,   0,   0, ..., 154, 150, 139], dtype=uint8),\n",
       "        array([ 64,  66,  67, ..., 149, 150, 154], dtype=uint8),\n",
       "        array([79, 78, 77, ..., 78, 63, 59], dtype=uint8),\n",
       "        array([132, 134, 133, ..., 157, 155, 155], dtype=uint8),\n",
       "        array([106, 106, 104, ..., 168, 150, 150], dtype=uint8),\n",
       "        array([ 79,  81,  78, ..., 168, 165, 161], dtype=uint8),\n",
       "        array([124, 124, 123, ..., 145, 113, 118], dtype=uint8),\n",
       "        array([ 22,  18,  13, ...,  82,  92, 106], dtype=uint8),\n",
       "        array([128, 132, 137, ..., 161, 128, 112], dtype=uint8),\n",
       "        array([124, 135, 167, ...,   0,   0,   1], dtype=uint8),\n",
       "        array([28, 45, 58, ...,  6,  8,  9], dtype=uint8),\n",
       "        array([141, 148, 165, ...,  66,  51,  38], dtype=uint8),\n",
       "        array([46, 43, 39, ...,  0,  0,  0], dtype=uint8),\n",
       "        array([ 96,  98,  99, ..., 143, 115,  87], dtype=uint8),\n",
       "        array([  0,   1,  15, ..., 150, 141,  95], dtype=uint8),\n",
       "        array([ 79,  79,  81, ..., 120, 113, 116], dtype=uint8),\n",
       "        array([ 44,  45,  47, ..., 195, 195, 196], dtype=uint8),\n",
       "        array([87, 90, 97, ...,  1,  5,  9], dtype=uint8),\n",
       "        array([ 45,  48,  53, ...,  82,  85, 104], dtype=uint8),\n",
       "        array([110, 145, 127, ...,   0,   0,   0], dtype=uint8),\n",
       "        array([120, 113, 114, ..., 209, 211, 214], dtype=uint8),\n",
       "        array([124, 138, 146, ...,  56,  46,  17], dtype=uint8),\n",
       "        array([  0,   0,   0, ..., 152, 160, 167], dtype=uint8),\n",
       "        array([104, 108, 110, ..., 148, 142, 119], dtype=uint8),\n",
       "        array([ 55,  56,  59, ..., 128, 117,  95], dtype=uint8),\n",
       "        array([71, 72, 77, ..., 93, 62, 44], dtype=uint8),\n",
       "        array([114, 113, 110, ..., 119, 105, 107], dtype=uint8),\n",
       "        array([ 83,  80,  73, ..., 153, 145, 131], dtype=uint8),\n",
       "        array([ 26,  26,  35, ..., 172, 179, 171], dtype=uint8),\n",
       "        array([31, 36, 38, ..., 26, 19, 10], dtype=uint8),\n",
       "        array([120, 117, 120, ...,   0,   0,   0], dtype=uint8),\n",
       "        array([135, 131,  81, ..., 119, 149, 124], dtype=uint8),\n",
       "        array([ 96,  90,  89, ..., 143, 157, 146], dtype=uint8),\n",
       "        array([22, 22, 21, ...,  3,  6,  9], dtype=uint8),\n",
       "        array([ 41,  27,  27, ..., 109,  89,  75], dtype=uint8),\n",
       "        array([ 26,  23,  16, ..., 114,  74,  54], dtype=uint8),\n",
       "        array([78, 72, 72, ...,  0,  0,  0], dtype=uint8),\n",
       "        array([135, 157, 145, ...,   9,  11,  13], dtype=uint8),\n",
       "        array([ 78,  80,  81, ..., 105, 123, 147], dtype=uint8),\n",
       "        array([ 79,  77,  73, ..., 168, 167, 166], dtype=uint8),\n",
       "        array([110, 115, 148, ..., 154, 133,  91], dtype=uint8),\n",
       "        array([ 77, 104, 104, ..., 138, 124, 118], dtype=uint8),\n",
       "        array([ 61,  84, 112, ..., 113, 144, 164], dtype=uint8),\n",
       "        array([112, 113, 115, ..., 141, 120,  98], dtype=uint8),\n",
       "        array([ 48,  47,  45, ..., 147, 147, 157], dtype=uint8),\n",
       "        array([134, 173, 169, ...,  63,  40,  19], dtype=uint8),\n",
       "        array([52, 60, 67, ...,  0,  0,  0], dtype=uint8),\n",
       "        array([252, 251, 237, ..., 164, 159, 156], dtype=uint8),\n",
       "        array([121, 114, 105, ..., 124, 150, 147], dtype=uint8),\n",
       "        array([131, 130, 134, ..., 161, 126,  78], dtype=uint8),\n",
       "        array([132, 136, 140, ..., 137, 118,  91], dtype=uint8),\n",
       "        array([125, 134, 138, ..., 163, 162, 130], dtype=uint8),\n",
       "        array([ 13,  11,   5, ..., 183, 181, 185], dtype=uint8),\n",
       "        array([  0,   0,   0, ..., 127, 127, 125], dtype=uint8), 1, 1, 1,\n",
       "        1, 1, 1, 1, 1, 1, 1, 1, 1, 1, 1, 1, 1, 1, 1, 1, 1, 1, 1, 1, 1, 1,\n",
       "        1, 1, 1, 1, 1, 1, 1, 1, 1, 1, 1, 1, 1, 1, 1, 1, 1, 1, 1, 1, 1, 1,\n",
       "        1, 1, 1, 1, 1, 1, 1, 1, 1, 1, 1, 1, 1, 1, 1, 1, 1, 1, 1, 1, 1, 1,\n",
       "        1, 1, 1, 1, 1, 1, 1, 1, 1, 1, 1, 1, 1, 1, 1, 1, 1, 1, 1, 1, 1, 1,\n",
       "        1, 1, 1, 1, 1, 1, 1, 1, 1, 1, 1, 1, 1, 1, 1, 1, 1, 1, 1, 1, 1, 1,\n",
       "        1, 1, 1, 1, 1, 1, 1, 1, 1, 1, 1, 1, 1, 1, 1, 1, 1, 1, 1, 1, 1, 1,\n",
       "        1, 1, 1, 1, 1, 1, 1, 1, 1, 1, 1, 1, 1, 1, 1, 1, 1, 1, 1, 1, 1, 1,\n",
       "        1, 1, 1, 1, 1, 1, 1, 1, 1, 1, 1, 1, 1, 1, 1, 1, 1, 1, 1, 1, 1, 1,\n",
       "        1, 1, 1, 1, 1, 1, 1, 1, 1, 1, 1, 1, 1, 1]], dtype=object)"
      ]
     },
     "execution_count": 18,
     "metadata": {},
     "output_type": "execute_result"
    }
   ],
   "source": [
    "X_train = assets['train']['healthy']['images'] + assets['train']['bacteria']['images'] + assets['train']['virus']['images']\n",
    "Y_train = assets['train']['healthy']['images'] + assets['train']['bacteria']['labels'] + assets['train']['virus']['labels']\n",
    "\n",
    "X_train = np.array(X_train)\n",
    "y_train = np.array(Y_train)\n",
    "\n",
    "X = X_train.T\n",
    "y = y_train.reshape((1,y_train.shape[0]))\n",
    "y\n",
    "\n"
   ]
  },
  {
   "attachments": {},
   "cell_type": "markdown",
   "metadata": {},
   "source": [
    "## phase d'entrainement"
   ]
  },
  {
   "cell_type": "code",
   "execution_count": 19,
   "metadata": {},
   "outputs": [
    {
     "name": "stderr",
     "output_type": "stream",
     "text": [
      "  0%|          | 0/2000 [00:00<?, ?it/s]C:\\Users\\sf690\\AppData\\Local\\Temp\\ipykernel_7376\\2090253647.py:9: RuntimeWarning: overflow encountered in exp\n",
      "  activations['A' + str(c)] = 1 / (1 + np.exp(-Z))\n"
     ]
    }
   ],
   "source": [
    "#deep_neural_network(X, y, hidden_layers = (32, 32, 32), learning_rate = 0.1, n_iter = 2000)"
   ]
  },
  {
   "attachments": {},
   "cell_type": "markdown",
   "metadata": {},
   "source": [
    "## phase test"
   ]
  },
  {
   "cell_type": "code",
   "execution_count": null,
   "metadata": {},
   "outputs": [],
   "source": [
    "#deep_neural_network(X_test, y_test, hidden_layers = (32, 32, 32), learning_rate = 0.1, n_iter = 2000)"
   ]
  }
 ],
 "metadata": {
  "kernelspec": {
   "display_name": "Python 3",
   "language": "python",
   "name": "python3"
  },
  "language_info": {
   "codemirror_mode": {
    "name": "ipython",
    "version": 3
   },
   "file_extension": ".py",
   "mimetype": "text/x-python",
   "name": "python",
   "nbconvert_exporter": "python",
   "pygments_lexer": "ipython3",
   "version": "3.11.0"
  },
  "orig_nbformat": 4
 },
 "nbformat": 4,
 "nbformat_minor": 2
}
